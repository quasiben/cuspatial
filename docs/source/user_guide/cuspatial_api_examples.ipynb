{
 "cells": [
  {
   "attachments": {},
   "cell_type": "markdown",
   "id": "c5fdf490-fa77-4e56-92d1-53101fff75ba",
   "metadata": {},
   "source": [
    "# cuSpatial Python User's Guide\n",
    "\n",
    "cuSpatial is a GPU-accelerated Python library for spatial data analysis including distance and  \n",
    "trajectory computations, spatial data indexing and spatial join operations. cuSpatial's  \n",
    "Python API provides an accessible interface to high-performance spatial algorithms accelerated\n",
    "by CUDA-enabled GPUs."
   ]
  },
  {
   "attachments": {},
   "cell_type": "markdown",
   "id": "caadf3ca-be3c-4523-877c-4c35dd25093a",
   "metadata": {},
   "source": [
    "## Contents\n",
    "\n",
    "This guide provides a working example for all of the python API components of cuSpatial.  \n",
    "The following list links to each subsection.\n",
    "\n",
    "* [Installing cuSpatial](#Installing-cuSpatial)\n",
    "* [GPU accelerated memory layout](#GPU-accelerated-memory-layout)\n",
    "* [Input / Output](#Input-/-Output)\n",
    "* [Geopandas and cuDF integration](#Geopandas-and-cuDF-integration)\n",
    "* [Trajectories](#Trajectories)\n",
    "* [Bounding](#Bounding)\n",
    "* [Projection](#Projection)\n",
    "* [Distance](#Distance)\n",
    "* [Filtering](#Filtering)\n",
    "* [Spatial joins](#Spatial-joins)"
   ]
  },
  {
   "attachments": {},
   "cell_type": "markdown",
   "id": "115c8382-f83f-476f-9a26-a64a45b3a8da",
   "metadata": {},
   "source": [
    "## Installing cuSpatial\n",
    "Read the [RAPIDS Quickstart Guide](  https://rapids.ai/start.html     ) to learn more about installing all RAPIDS libraries, including cuSpatial.\n",
    "\n",
    "If you are working on a system with a CUDA-enabled GPU and have CUDA installed, uncomment the  \n",
    "following cell and install cuSpatial:"
   ]
  },
  {
   "cell_type": "code",
   "execution_count": null,
   "id": "7265f9d2-9203-4da2-bbb2-b35c7f933641",
   "metadata": {},
   "outputs": [],
   "source": [
    "# !conda create -n rapids-24.08 -c rapidsai -c conda-forge -c nvidia \\ \n",
    "#     cuspatial=24.08 python=3.9 cudatoolkit=11.5 "
   ]
  },
  {
   "attachments": {},
   "cell_type": "markdown",
   "id": "051b6e68-9ffd-473a-89e2-313fe1c59d18",
   "metadata": {},
   "source": [
    "For other options to create a RAPIDS environment, such as docker or build from source, see  \n",
    "[RAPIDS Release Selector](  https://rapids.ai/start.html#get-rapids). \n",
    "\n",
    "If you wish to contribute to cuSpatial, you should create a source build using the excellent [rapids-compose](https://github.com/trxcllnt/rapids-compose)"
   ]
  },
  {
   "attachments": {},
   "cell_type": "markdown",
   "id": "7b770cb4-793e-467a-a306-2d3409545748",
   "metadata": {},
   "source": [
    "## GPU accelerated memory layout\n",
    "\n",
    "cuSpatial uses `GeoArrow` buffers, a GPU-friendly data format for geometric data that is well  \n",
    "suited for massively parallel programming. See [I/O]((#Input-/-Output) on the fastest methods to get your  \n",
    "data into cuSpatial. GeoArrow extends [PyArrow](\n",
    "https://arrow.apache.org/docs/python/index.html       ) bindings and introduces several new types suited  \n",
    "for geometry applications.  GeoArrow supports [ListArrays](\n",
    "https://arrow.apache.org/docs/python/data.html#arrays) for `Points`, `MultiPoints`,  \n",
    "`LineStrings`, `MultiLineStrings`, `Polygons`, and `MultiPolygons`. Using an Arrow [DenseArray](\n",
    "https://arrow.apache.org/docs/python/data.html#union-arrays),  \n",
    "GeoArrow stores heterogeneous types of Features. DataFrames of geometry objects and their  \n",
    "metadata can be loaded and transformed in a method similar to those in [GeoPandas.GeoSeries](\n",
    "https://geopandas.org/en/stable/docs/reference/api/geopandas.GeoSeries.html)."
   ]
  },
  {
   "cell_type": "code",
   "execution_count": null,
   "id": "88d05bb9-c924-4d0b-8736-cd5183602d76",
   "metadata": {
    "tags": []
   },
   "outputs": [],
   "source": [
    "# Imports used throughout this notebook.\n",
    "import cuspatial\n",
    "import cudf\n",
    "import cupy\n",
    "import geopandas\n",
    "import geodatasets\n",
    "import pandas as pd\n",
    "import numpy as np\n",
    "from shapely.geometry import *\n",
    "from shapely import wkt"
   ]
  },
  {
   "cell_type": "code",
   "execution_count": null,
   "id": "4937d4aa-4e32-49ab-a22e-96dfb0098d07",
   "metadata": {
    "tags": []
   },
   "outputs": [],
   "source": [
    "# For deterministic result\n",
    "np.random.seed(0)\n",
    "cupy.random.seed(0)"
   ]
  },
  {
   "attachments": {},
   "cell_type": "markdown",
   "id": "4b1251d1-558a-4899-8e7a-8066db0ad091",
   "metadata": {},
   "source": [
    "## Input / Output\n",
    "\n",
    "The primary method of loading features into cuSpatial is using [cuspatial.from_geopandas](\n",
    "https://docs.rapids.ai/api/cuspatial/stable/api_docs/io.html?highlight=from_geopandas#cuspatial.from_geopandas).\n",
    "\n",
    "One can also create feature geometries directly using any Python buffer that supports  \n",
    "`__array_interface__` for coordinates and their feature offsets."
   ]
  },
  {
   "attachments": {},
   "cell_type": "markdown",
   "id": "11b973bd-87e1-4b67-ab8c-23c3b8291335",
   "metadata": {},
   "source": [
    "### [cuspatial.from_geopandas](https://docs.rapids.ai/api/cuspatial/stable/api_docs/io.html?highlight=from_geopandas#cuspatial.from_geopandas)\n",
    "\n",
    "The easiest way to get data into cuSpatial is via `cuspatial.from_geopandas`."
   ]
  },
  {
   "cell_type": "code",
   "execution_count": null,
   "id": "255fbfbe-8be1-498c-9a26-f4a3f31bdded",
   "metadata": {
    "tags": []
   },
   "outputs": [],
   "source": [
    "host_dataframe = geopandas.read_file('https://naturalearth.s3.amazonaws.com/110m_cultural/ne_110m_admin_0_countries.zip')\n",
    "gpu_dataframe = cuspatial.from_geopandas(host_dataframe)\n",
    "print(gpu_dataframe.head())"
   ]
  },
  {
   "attachments": {},
   "cell_type": "markdown",
   "id": "da5c775b-7458-4e3c-a573-e1bd060e3365",
   "metadata": {},
   "source": [
    "## Geopandas and cuDF integration\n",
    "\n",
    "A cuSpatial [GeoDataFrame](\n",
    "https://docs.rapids.ai/api/cuspatial/stable/api_docs/geopandas_compatibility.html#cuspatial.GeoDataFrame               ) is a collection of [cudf](\n",
    "https://docs.rapids.ai/api/cudf/stable/              ) [Series](\n",
    "https://docs.rapids.ai/api/cudf/stable/api_docs/series.html    ) and\n",
    "[cuspatial.GeoSeries](\n",
    "https://docs.rapids.ai/api/cuspatial/stable/api_docs/geopandas_compatibility.html#cuspatial.GeoSeries             ) `\"geometry\"` objects.  \n",
    "Both types of series are stored on the GPU, and\n",
    "`GeoSeries` is represented internally using `GeoArrow` data layout.\n",
    "\n",
    "One of the most important features of cuSpatial is that it is highly integrated with `cuDF`.  \n",
    "You can use any `cuDF` operation on cuSpatial non-feature columns, and most operations will work  \n",
    "with a `geometry` column. Operations that reduce or collate the number of rows in your DataFrame,  \n",
    "for example `groupby`, are not supported at this time."
   ]
  },
  {
   "cell_type": "code",
   "execution_count": null,
   "id": "956451e2-a520-441d-a939-575ed179917b",
   "metadata": {
    "tags": []
   },
   "outputs": [],
   "source": [
    "gpu_dataframe = cuspatial.from_geopandas(host_dataframe)\n",
    "continents_dataframe = gpu_dataframe.sort_values(\"NAME\")\n",
    "print(continents_dataframe.head())"
   ]
  },
  {
   "attachments": {},
   "cell_type": "markdown",
   "id": "5453f308-317f-4775-ba3c-ff0633755bc4",
   "metadata": {},
   "source": [
    "You can also convert between GPU-backed `cuspatial.GeoDataFrame` and CPU-backed  \n",
    "`geopandas.GeoDataFrame` with `from_geopandas`  and `to_geopandas`, enabling you to  \n",
    "take advantage of any native GeoPandas operation. Note, however, that GeoPandas runs on  \n",
    " the CPU and therefore will not have as high performance as cuSpatial operations. The following  \n",
    "example displays the `Polygon` associated with the first item in the dataframe sorted  \n",
    "alphabetically by name."
   ]
  },
  {
   "cell_type": "code",
   "execution_count": null,
   "id": "cd8d1c39-b44f-4d06-9e11-04c2dca4cf15",
   "metadata": {
    "tags": []
   },
   "outputs": [],
   "source": [
    "gpu_dataframe = cuspatial.from_geopandas(host_dataframe)\n",
    "sorted_dataframe = gpu_dataframe.sort_values(\"NAME\")\n",
    "host_dataframe = sorted_dataframe.to_geopandas()\n",
    "host_dataframe['geometry'].iloc[0]"
   ]
  },
  {
   "attachments": {},
   "cell_type": "markdown",
   "id": "56b80722-38b6-457c-a7f0-591af6efd3ff",
   "metadata": {},
   "source": [
    "## Trajectories\n",
    "\n",
    "A trajectory is a `LineString` coupled with a time sample for each point in the `LineString`.  \n",
    "Use  `cuspatial.trajectory.derive_trajectories` to group trajectory datasets and sort by time.\n",
    "\n",
    "<img src=\"../_static/trajectory.png\" width=250>\n",
    "\n",
    "### [cuspatial.derive_trajectories](https://docs.rapids.ai/api/cuspatial/stable/api_docs/trajectory.html#cuspatial.derive_trajectories)"
   ]
  },
  {
   "cell_type": "code",
   "execution_count": null,
   "id": "cb5acdad-53aa-418f-9948-8445515bd2b2",
   "metadata": {
    "tags": []
   },
   "outputs": [],
   "source": [
    "# 1m random trajectory samples\n",
    "ids = cupy.random.randint(1, 400, 1000000)\n",
    "timestamps = cupy.random.random(1000000)*1000000\n",
    "xy= cupy.random.random(2000000)\n",
    "trajs = cuspatial.GeoSeries.from_points_xy(xy)\n",
    "sorted_trajectories, trajectory_offsets = \\\n",
    "    cuspatial.core.trajectory.derive_trajectories(ids, trajs, timestamps)\n",
    "# sorted_trajectories is a DataFrame containing all trajectory samples\n",
    "# sorted first by `object_id` and then by `timestamp`.\n",
    "print(sorted_trajectories.head())\n",
    "# trajectory_offsets is a Series containing the start position of each\n",
    "# trajectory in sorted_trajectories.\n",
    "print(trajectory_offsets)"
   ]
  },
  {
   "attachments": {},
   "cell_type": "markdown",
   "id": "3c4a90f9-8661-4fda-9026-473e6ce87bd2",
   "metadata": {},
   "source": [
    "`derive_trajectories` sorts the trajectories by `object_id`, then `timestamp`, and returns a  \n",
    "tuple containing the sorted trajectory data frame in the first index position and the offsets  \n",
    "buffer defining the start and stop of each trajectory in the second index position.  \n",
    "\n",
    "### [cuspatial.trajectory_distances_and_speeds](https://docs.rapids.ai/api/cuspatial/stable/api_docs/trajectory.html#cuspatial.trajectory_distances_and_speeds)\n",
    "\n",
    "Use `trajectory_distance_and_speed` to calculate the overall distance travelled in meters and  \n",
    "the speed of a set of trajectories with the same format as the result returned by `derive_trajectories`."
   ]
  },
  {
   "cell_type": "code",
   "execution_count": null,
   "id": "03b75847-090d-40f8-8147-cb10b900d6ec",
   "metadata": {
    "tags": []
   },
   "outputs": [],
   "source": [
    "trajs = cuspatial.GeoSeries.from_points_xy(\n",
    "    sorted_trajectories[[\"x\", \"y\"]].interleave_columns()\n",
    ")\n",
    "d_and_s = cuspatial.core.trajectory.trajectory_distances_and_speeds(\n",
    "  len(cudf.Series(ids).unique()),\n",
    "  sorted_trajectories['object_id'],\n",
    "  trajs,\n",
    "  sorted_trajectories['timestamp']\n",
    ")\n",
    "print(d_and_s.head())"
   ]
  },
  {
   "attachments": {},
   "cell_type": "markdown",
   "id": "eeb0da7c-0bdf-49ec-8244-4165acc96074",
   "metadata": {},
   "source": [
    "Finally, compute the bounding boxes of trajectories that follow the format of the above two  \n",
    "examples:"
   ]
  },
  {
   "attachments": {},
   "cell_type": "markdown",
   "id": "12a3ce7e-82b7-4b51-8227-5e157a48701c",
   "metadata": {
    "tags": []
   },
   "source": [
    "## Bounding\n",
    "\n",
    "Compute the bounding boxes of `n` polygons or linestrings:\n",
    "\n",
    "<img src=\"../_static/bounding.png\" width=250>\n",
    "\n",
    "### [cuspatial.trajectory_bounding_boxes](https://docs.rapids.ai/api/cuspatial/stable/api_docs/trajectory.html#cuspatial.trajectory_bounding_boxes)\n",
    "\n",
    "`trajectory_bounding_boxes` works out of the box with the values returned by `derive_trajectories`.  \n",
    "Its arguments are the number of incoming objects, the offsets of those objects, and x and y point buffers."
   ]
  },
  {
   "cell_type": "code",
   "execution_count": null,
   "id": "452f60cb-28cc-4ad8-8aa2-9d73e3d56ec6",
   "metadata": {
    "tags": []
   },
   "outputs": [],
   "source": [
    "bounding_boxes = cuspatial.core.trajectory.trajectory_bounding_boxes(\n",
    "  len(cudf.Series(ids, dtype=\"int32\").unique()),\n",
    "  sorted_trajectories['object_id'],\n",
    "  trajs\n",
    ")\n",
    "print(bounding_boxes.head())"
   ]
  },
  {
   "attachments": {},
   "cell_type": "markdown",
   "id": "a56dfe17-1739-4b20-85c9-fcb5902c1585",
   "metadata": {},
   "source": [
    "### [cuspatial.polygon_bounding_boxes](https://docs.rapids.ai/api/cuspatial/nightly/api_docs/spatial.html#cuspatial.polygon_bounding_boxes)\n",
    "\n",
    "`polygon_bounding_boxes` supports more complex geometry objects such as `Polygon`s with multiple  \n",
    "rings. The combination of `part_offset` and `ring_offset` allows the function to use only the  \n",
    "exterior ring for computing the bounding box."
   ]
  },
  {
   "cell_type": "code",
   "execution_count": null,
   "id": "9266aac4-f925-4fb7-b287-5f0b795d5756",
   "metadata": {
    "tags": []
   },
   "outputs": [],
   "source": [
    "single_polygons = cuspatial.from_geopandas(\n",
    "    host_dataframe['geometry'][host_dataframe['geometry'].type == \"Polygon\"]\n",
    ")\n",
    "bounding_box_polygons = cuspatial.core.spatial.bounding.polygon_bounding_boxes(\n",
    "    single_polygons\n",
    ")\n",
    "print(bounding_box_polygons.head())"
   ]
  },
  {
   "attachments": {},
   "cell_type": "markdown",
   "id": "85197478-801c-4d2d-8b10-c1136d7bb15c",
   "metadata": {},
   "source": [
    "### [cuspatial.linestring_bounding_boxes](https://docs.rapids.ai/api/cuspatial/nightly/api_docs/spatial.html#cuspatial.linestring_bounding_boxes)\n",
    "\n",
    "Equivalently, we can treat trajectories as Linestrings and compute the same bounding boxes from  \n",
    "the above trajectory calculation more generally:"
   ]
  },
  {
   "cell_type": "code",
   "execution_count": null,
   "id": "15b5bb38-702f-4360-b48c-2e49ffd650d7",
   "metadata": {
    "tags": []
   },
   "outputs": [],
   "source": [
    "lines = cuspatial.GeoSeries.from_linestrings_xy(\n",
    "    trajs.points.xy, trajectory_offsets, cupy.arange(len(trajectory_offsets))\n",
    ")\n",
    "trajectory_bounding_boxes = cuspatial.core.spatial.bounding.linestring_bounding_boxes(\n",
    "    lines, 0.0001\n",
    ")\n",
    "print(trajectory_bounding_boxes.head())"
   ]
  },
  {
   "attachments": {},
   "cell_type": "markdown",
   "id": "81c4d3ca-5d3f-4ae1-ae8e-ac1e252f3e17",
   "metadata": {},
   "source": [
    "## Projection\n",
    "\n",
    "cuSpatial provides a simple sinusoidal longitude / latitude to Cartesian coordinate transform.  \n",
    "This function requires an origin point to determine the scaling parameters for the lonlat inputs.  \n",
    "\n",
    "### [cuspatial.sinusoidal_projection](https://docs.rapids.ai/api/cuspatial/nightly/api_docs/spatial.html#cuspatial.sinusoidal_projection)\n",
    "\n",
    "The following cell converts the lonlat coordinates of the country of Afghanistan to Cartesian  \n",
    "coordinates in km, centered around the center of the country, suitable for graphing and display."
   ]
  },
  {
   "cell_type": "code",
   "execution_count": null,
   "id": "a7a870dd-c0ae-41c1-a66c-cff4bd2db0ec",
   "metadata": {
    "tags": []
   },
   "outputs": [],
   "source": [
    "gpu_dataframe = cuspatial.from_geopandas(host_dataframe)\n",
    "afghanistan = gpu_dataframe['geometry'][gpu_dataframe['NAME'] == 'Afghanistan']\n",
    "points = cuspatial.GeoSeries.from_points_xy(afghanistan.polygons.xy)\n",
    "projected = cuspatial.sinusoidal_projection(\n",
    "    afghanistan.polygons.x.mean(),\n",
    "    afghanistan.polygons.y.mean(),\n",
    "    points\n",
    ")\n",
    "print(projected.head())"
   ]
  },
  {
   "attachments": {},
   "cell_type": "markdown",
   "id": "c9085e80-e7ba-48e9-8c50-12e544e3af46",
   "metadata": {},
   "source": [
    "## Distance\n",
    "cuSpatial provides a growing suite of distance computation functions. Parallel distance functions  \n",
    "come in two main forms: pairwise, which computes a distance for each corresponding pair of input  \n",
    "geometries; and all-pairs, which computes a distance for the each element of the Cartesian product  \n",
    "of input geometries (for each input geometry in A, compute the distance from A to each input\n",
    "geometry in B).\"\n",
    "    \n",
    "Two pairwise distance functions are included in cuSpatial: `haversine` and `pairwise_linestring`.  \n",
    "The `hausdorff` clustering distances algorithm is also available, computing the hausdorff  \n",
    "distance across the cartesian product of its single input.\n",
    "\n",
    "### [cuspatial.directed_hausdorff_distance](https://docs.rapids.ai/api/cuspatial/stable/api_docs/trajectory.html#cuspatial.directed_hausdorff_distance)\n",
    "\n",
    "The directed Hausdorff distance from one space to another is the greatest of all the distances  \n",
    "between any point in the first space to the closet point in the second. This is especially useful  \n",
    "as a similarity metric between trajectories.\n",
    "\n",
    "<img src=\"../_static/hausdorff.png\" width=250>\n",
    "\n",
    "[Hausdorff distance](https://en.wikipedia.org/wiki/Hausdorff_distance)"
   ]
  },
  {
   "cell_type": "code",
   "execution_count": null,
   "id": "e75b0352-0f80-404d-a113-f301601cd5a3",
   "metadata": {
    "tags": []
   },
   "outputs": [],
   "source": [
    "coordinates = sorted_trajectories[['x', 'y']].interleave_columns()\n",
    "spaces = cuspatial.GeoSeries.from_multipoints_xy(\n",
    "    coordinates, trajectory_offsets\n",
    ")\n",
    "hausdorff_distances = cuspatial.core.spatial.distance.directed_hausdorff_distance(\n",
    "    spaces\n",
    ")\n",
    "print(hausdorff_distances.head())"
   ]
  },
  {
   "attachments": {},
   "cell_type": "markdown",
   "id": "993d7566-203e-4b87-adad-088e2fd92eed",
   "metadata": {},
   "source": [
    "### [cuspatial.haversine_distance](https://docs.rapids.ai/api/cuspatial/stable/api_docs/gis.html#cuspatial.haversine_distance)\n",
    "\n",
    "Haversine distance is the great circle distance between longitude and latitude pairs. cuSpatial  \n",
    "uses the `lon/lat` ordering to better reflect the cartesian coordinates of great circle  \n",
    "coordinates: `x/y`.\n",
    "\n",
    "<img src=\"../_static/haversine.png\" width=250>"
   ]
  },
  {
   "cell_type": "code",
   "execution_count": null,
   "id": "70f66319-c4d2-4a93-ab98-0debcce4a719",
   "metadata": {
    "tags": []
   },
   "outputs": [],
   "source": [
    "gpu_dataframe = cuspatial.from_geopandas(host_dataframe)\n",
    "polygons_first = gpu_dataframe['geometry'][0:10]\n",
    "polygons_second = gpu_dataframe['geometry'][10:30]\n",
    "\n",
    "points_first = polygons_first.polygons.xy[0:1000]\n",
    "points_second = polygons_second.polygons.xy[0:1000]\n",
    "\n",
    "first = cuspatial.GeoSeries.from_points_xy(points_first)\n",
    "second = cuspatial.GeoSeries.from_points_xy(points_second)\n",
    "\n",
    "# The number of coordinates in two sets of polygons vary, so\n",
    "# we'll just compare the first set of 1000 values here.\n",
    "distances_in_meters = cuspatial.haversine_distance(\n",
    "    first, second\n",
    ")\n",
    "cudf.Series(distances_in_meters).head()"
   ]
  },
  {
   "cell_type": "markdown",
   "id": "f21c1709-dfc1-411b-b9d5-ec5dc345367f",
   "metadata": {},
   "source": [
    "This above method reads the GeoPandas data from CPU memory into GPU memory and then cuSpatial processes it. If the data is already in a cuDF GPU dataframe, you can quickly calculate Haversine distances using the method below. This maximizes speed by keeping all the processing on the GPU and is very useful when working on large datasets."
   ]
  },
  {
   "cell_type": "code",
   "execution_count": null,
   "id": "c32741b0-c550-4d0f-b494-45191f5b60fd",
   "metadata": {},
   "outputs": [],
   "source": [
    "# Generate data to be used to create a cuDF dataframe.  \n",
    "# The data to be processed by Haversine MUST be a Float.\n",
    "a = {\"latitude\":[17.1167, 17.1333, 25.333, 25.255, 24.433, 24.262, 35.317, 34.21, 34.566, 31.5, 36.7167, 30.5667, 28.05, 22.8, 35.7297, 36.97, 36.78, 36.8, 36.8, 36.72],\n",
    "     \"longitude\": [-61.7833, -61.7833, 55.517, 55.364, 54.651, 55.609, 69.017, 62.228, 69.212, 65.85, 3.25, 2.8667, 9.6331, 5.4331, 0.65, 7.79, 3.07, 3.03, 3.04, 4.05]}\n",
    "df = cudf.DataFrame(data=a)\n",
    "\n",
    "# Create cuSpatial GeoSeries from cuDF Dataframe\n",
    "cuGeoSeries = cuspatial.GeoSeries.from_points_xy(df[['longitude', 'latitude']].interleave_columns())\n",
    "\n",
    "# Create Comparator cuSpatial GeoSeries from a comparator point\n",
    "df['atlanta_lat'] = 33.7490\n",
    "df['atlanta_lng'] = -84.3880\n",
    "atlGeoSeries = cuspatial.GeoSeries.from_points_xy(df[['atlanta_lat', 'atlanta_lng']].interleave_columns())\n",
    "\n",
    "# Calculate Haversine Distance of cuDF dataframe to comparator point\n",
    "df['atlanta_dist'] = cuspatial.haversine_distance(cuGeoSeries, atlGeoSeries)\n",
    "print(df.head())"
   ]
  },
  {
   "attachments": {},
   "cell_type": "markdown",
   "id": "7f2239c5-58d0-4912-9bd7-246cc6741c0a",
   "metadata": {},
   "source": [
    "### Pairwise distance\n",
    "\n",
    "`pairwise_linestring_distance` computes the distance between a `GeoSeries` of Linestrings of  \n",
    "length `n` and a corresponding `GeoSeries` of Linestrings of `n` length. It returns the  \n",
    "minimum distance from any point in the first linestring of the pair to the nearest segment  \n",
    "or point within the second Linestring of the pair.\n",
    "\n",
    "The input accepts a pair of geoseries as input sequences of linestring arrays.\n",
    "\n",
    "The below example uses the polygons from `naturalearth_lowres` and treats them as linestrings.  \n",
    "The first example computes the distances between all polygons and themselves, while the second  \n",
    "example computes the distance between the first 50 polygons and the second 50 polygons.\n",
    "\n",
    "### [cuspatial.pairwise_linestring_distance](https://docs.rapids.ai/api/cuspatial/nightly/api_docs/spatial.html#cuspatial.pairwise_linestring_distance)"
   ]
  },
  {
   "cell_type": "code",
   "execution_count": null,
   "id": "35dfb7c9-1914-488a-b22e-8d0067ea7a8b",
   "metadata": {
    "tags": []
   },
   "outputs": [],
   "source": [
    "gpu_boundaries = cuspatial.from_geopandas(host_dataframe.geometry.boundary)\n",
    "zeros = cuspatial.pairwise_linestring_distance(\n",
    "    gpu_boundaries[0:50],\n",
    "    gpu_boundaries[0:50]\n",
    ")\n",
    "print(zeros.head())\n",
    "lines1 = gpu_boundaries[0:50]\n",
    "lines2 = gpu_boundaries[50:100]\n",
    "distances = cuspatial.pairwise_linestring_distance(\n",
    "    lines1, lines2\n",
    ")\n",
    "print(distances.head())"
   ]
  },
  {
   "attachments": {},
   "cell_type": "markdown",
   "id": "de6b73ac-1b48-422c-8463-37367ad73507",
   "metadata": {},
   "source": [
    "`pairwise_point_linestring_distance` computes the distance between pairs of points and  \n",
    "linestrings. It can be used with polygons treated as linestrings as well. In the following  \n",
    "example the minimum distance from a country's center to it's border is computed.\n",
    "\n",
    "### [cuspatial.pairwise_point_linestring_distance](https://docs.rapids.ai/api/cuspatial/nightly/api_docs/spatial.html#cuspatial.pairwise_point_linestring_distance)\n",
    "\n",
    "Using WGS 84 Pseudo-Mercator, distances are in meters."
   ]
  },
  {
   "cell_type": "code",
   "execution_count": null,
   "id": "97775b8a-fd59-4e77-9add-840f03836830",
   "metadata": {},
   "outputs": [],
   "source": [
    "host_dataframe.to_crs(3857)"
   ]
  },
  {
   "cell_type": "code",
   "execution_count": null,
   "id": "40e9a41e-21af-47cc-a142-b19a67941f7f",
   "metadata": {
    "tags": []
   },
   "outputs": [],
   "source": [
    "# Convert input dataframe to Pseudo-Mercator projection.\n",
    "host_dataframe = geopandas.read_file(geopandas.datasets.get_path(\"naturalearth_lowres\")).to_crs(3857)\n",
    "polygons = host_dataframe[host_dataframe['geometry'].type == \"Polygon\"]\n",
    "gpu_polygons = cuspatial.from_geopandas(polygons)\n",
    "# Extract mean_x and mean_y from each country\n",
    "mean_x = [gpu_polygons['geometry'].iloc[[ix]].polygons.x.mean() for ix in range(len(gpu_polygons))]\n",
    "mean_y = [gpu_polygons['geometry'].iloc[[ix]].polygons.y.mean() for ix in range(len(gpu_polygons))]\n",
    "# Convert mean_x/mean_y values into Points for use in API.\n",
    "points = cuspatial.GeoSeries([Point(point) for point in zip(mean_x, mean_y)])\n",
    "# Convert Polygons into Linestrings for use in API.\n",
    "linestring_df = cuspatial.from_geopandas(geopandas.geoseries.GeoSeries(\n",
    "    [MultiLineString(mapping(polygons['geometry'].iloc[ix])[\"coordinates\"]) for ix in range(len(polygons))]\n",
    "))\n",
    "gpu_polygons['border_distance'] = cuspatial.pairwise_point_linestring_distance(\n",
    "    points, linestring_df\n",
    ")\n",
    "print(gpu_polygons.head())"
   ]
  },
  {
   "attachments": {},
   "cell_type": "markdown",
   "id": "008d320d-ca47-459f-9fff-8769494c8a61",
   "metadata": {},
   "source": [
    "### cuspatial.pairwise_point_polygon_distance\n",
    "\n",
    "Using WGS 84 Pseudo-Mercator, distances are in meters."
   ]
  },
  {
   "cell_type": "code",
   "execution_count": null,
   "id": "258c9a8c-7fe3-4047-80b7-00878d9fb2f1",
   "metadata": {
    "tags": []
   },
   "outputs": [],
   "source": [
    "cities = geopandas.read_file(geopandas.datasets.get_path(\"naturalearth_cities\")).to_crs(3857)\n",
    "countries = geopandas.read_file(geopandas.datasets.get_path(\"naturalearth_lowres\")).to_crs(3857)\n",
    "\n",
    "gpu_cities = cuspatial.from_geopandas(cities)\n",
    "gpu_countries = cuspatial.from_geopandas(countries)\n",
    "\n",
    "dist = cuspatial.pairwise_point_polygon_distance(\n",
    "    gpu_cities.geometry[:len(gpu_countries)], gpu_countries.geometry\n",
    ")\n",
    "\n",
    "gpu_countries[\"distance_from\"] = cities.name\n",
    "gpu_countries[\"distance\"] = dist\n",
    "\n",
    "gpu_countries.head()"
   ]
  },
  {
   "attachments": {},
   "cell_type": "markdown",
   "id": "e0b4d618",
   "metadata": {},
   "source": [
    "### cuspatial.pairwise_linestring_polygon_distance\n",
    "\n",
    "Using WGS 84 Pseudo-Mercator, distances are in meters."
   ]
  },
  {
   "cell_type": "code",
   "execution_count": null,
   "id": "5863871e",
   "metadata": {},
   "outputs": [],
   "source": [
    "# all driveways within 2km range of central park, nyc\n",
    "\n",
    "# The dataset is downloaded and processed as follows:\n",
    "# import osmnx as ox\n",
    "# graph = ox.graph_from_point((40.769361, -73.977655), dist=2000, network_type=\"drive\")\n",
    "# nodes, streets = ox.graph_to_gdfs(graph)\n",
    "# streets = streets.to_crs(3857)\n",
    "# streets = streets.reset_index(drop=True)\n",
    "# streets.index.name = \"index\"\n",
    "# streets[[\"name\", \"geometry\"]].to_csv(\"streets_3857.csv\")\n",
    "\n",
    "# The data is under notebooks/streets_3857.csv\n",
    "streets = pd.read_csv(\"./streets_3857.csv\", index_col=\"index\")\n",
    "streets.geometry = streets.geometry.apply(wkt.loads)\n",
    "streets = geopandas.GeoDataFrame(streets)\n",
    "streets.head()"
   ]
  },
  {
   "cell_type": "code",
   "execution_count": null,
   "id": "f4c67464",
   "metadata": {},
   "outputs": [],
   "source": [
    "# The polygon of the Empire State Building\n",
    "\n",
    "# The dataset is downloaded and processed as follows:\n",
    "# esb = ox.geometries.geometries_from_place('Empire State Building, New York', tags={\"building\": True})\n",
    "# esb = esb.to_crs(3857)\n",
    "# esb = esb.geometry.reset_index(drop=True)\n",
    "# esb.index.name = \"index\"\n",
    "# esb.to_csv(\"esb_3857.csv\")\n",
    "\n",
    "# The data is under notebooks/esb_3857.csv\n",
    "esb = pd.read_csv(\"./esb_3857.csv\", index_col=\"index\")\n",
    "esb.geometry = esb.geometry.apply(wkt.loads)\n",
    "esb = geopandas.GeoDataFrame(esb)\n",
    "esb = pd.concat([esb.iloc[0:1]] * len(streets))\n",
    "esb.head()"
   ]
  },
  {
   "cell_type": "code",
   "execution_count": null,
   "id": "d4e68e87",
   "metadata": {},
   "outputs": [],
   "source": [
    "# Straight line distance between the driveways to the Empire State Building\n",
    "gpu_streets = cuspatial.from_geopandas(streets.geometry)\n",
    "gpu_esb = cuspatial.from_geopandas(esb.geometry)\n",
    "\n",
    "dist = cuspatial.pairwise_linestring_polygon_distance(gpu_streets, gpu_esb).rename(\"dist\")\n",
    "pd.concat([streets[\"name\"].reset_index(drop=True), dist.to_pandas()], axis=1)"
   ]
  },
  {
   "attachments": {},
   "cell_type": "markdown",
   "id": "3e1bb692",
   "metadata": {},
   "source": [
    "### cuspatial.pairwise_polygon_distance\n",
    "\n",
    "Using WGS 84 Pseudo-Mercator, distances are in meters."
   ]
  },
  {
   "cell_type": "code",
   "execution_count": null,
   "id": "951625da",
   "metadata": {},
   "outputs": [],
   "source": [
    "countries = geopandas.read_file(geopandas.datasets.get_path(\"naturalearth_lowres\")).to_crs(3857)\n",
    "gpu_countries = cuspatial.from_geopandas(countries)\n",
    "\n",
    "african_countries = gpu_countries[gpu_countries.continent == \"Africa\"].sort_values(\"pop_est\", ascending=False)\n",
    "asian_countries = gpu_countries[gpu_countries.continent == \"Asia\"].sort_values(\"pop_est\", ascending=False)"
   ]
  },
  {
   "cell_type": "code",
   "execution_count": null,
   "id": "2f0e1118",
   "metadata": {},
   "outputs": [],
   "source": [
    "# Straight line distance between the top 10 most populated countries in Asia and Africa\n",
    "population_top10_africa = african_countries[:10].reset_index(drop=True)\n",
    "population_top10_asia = asian_countries[:10].reset_index(drop=True)\n",
    "dist = cuspatial.pairwise_polygon_distance(\n",
    "    population_top10_africa.geometry, population_top10_asia.geometry)\n",
    "\n",
    "cudf.concat([\n",
    "    population_top10_africa[\"name\"].rename(\"Africa\"),\n",
    "    population_top10_asia[\"name\"].rename(\"Asia\"), \n",
    "    dist.rename(\"dist\")], axis=1\n",
    ")"
   ]
  },
  {
   "attachments": {},
   "cell_type": "markdown",
   "id": "f5f27dc3-46ee-4a62-82de-20f76744382f",
   "metadata": {},
   "source": [
    "## Filtering\n",
    "\n",
    "The filtering module contains `points_in_spatial_window`, which returns from a set of points only those points that fall within a spatial window defined by four bounding coordinates: `min_x`, `max_x`, `min_y`, and `max_y`. The following example finds only the points of polygons that fall within 1 standard deviation of the mean of all of the polygons.\n",
    "\n",
    "<img src=\"../_static/spatial_window.png\" width=550>\n",
    "\n",
    "### [cuspatial.points_in_spatial_window](https://docs.rapids.ai/api/cuspatial/nightly/api_docs/spatial.html#cuspatial.points_in_spatial_window)"
   ]
  },
  {
   "cell_type": "code",
   "execution_count": null,
   "id": "d1ade9da-c9e2-45c4-9685-dffeda3fd358",
   "metadata": {
    "tags": []
   },
   "outputs": [],
   "source": [
    "host_dataframe = geopandas.read_file(geopandas.datasets.get_path(\"naturalearth_lowres\"))\n",
    "gpu_dataframe = cuspatial.from_geopandas(host_dataframe)\n",
    "geometry = gpu_dataframe['geometry']\n",
    "points = cuspatial.GeoSeries.from_points_xy(geometry.polygons.xy)\n",
    "mean_x, std_x = (geometry.polygons.x.mean(), geometry.polygons.x.std())\n",
    "mean_y, std_y = (geometry.polygons.y.mean(), geometry.polygons.y.std())\n",
    "avg_points = cuspatial.points_in_spatial_window(\n",
    "    points,\n",
    "    mean_x - std_x,\n",
    "    mean_x + std_x,\n",
    "    mean_y - std_y,\n",
    "    mean_y + std_y\n",
    ")\n",
    "print(avg_points.head())"
   ]
  },
  {
   "attachments": {},
   "cell_type": "markdown",
   "id": "5027a3dd-78bb-4d17-af94-506d0ed689c8",
   "metadata": {},
   "source": [
    "With some careful grouping, one can reconstruct the original complete polygons that fall within the range."
   ]
  },
  {
   "attachments": {},
   "cell_type": "markdown",
   "id": "3b33ce2b-965f-42a1-a89e-66d7ca80d907",
   "metadata": {},
   "source": [
    "## Set Operations"
   ]
  },
  {
   "attachments": {},
   "cell_type": "markdown",
   "id": "d73548f3-c9bb-43ff-9788-858f3b7d08e4",
   "metadata": {},
   "source": [
    "### Linestring Intersections\n",
    "\n",
    "cuSpatial provides a linestring-linestring intersection algorithm to compute the overlapping geometries between two linestrings.\n",
    "The API also returns the ids for each returned geometry to help user to trace back the source geometry."
   ]
  },
  {
   "cell_type": "code",
   "execution_count": null,
   "id": "cc72a44d-a9bf-4432-9898-de899ac45869",
   "metadata": {
    "tags": []
   },
   "outputs": [],
   "source": [
    "from cuspatial.core.binops.intersection import pairwise_linestring_intersection\n",
    "\n",
    "host_dataframe = geopandas.read_file(geopandas.datasets.get_path(\"naturalearth_lowres\"))\n",
    "usa_boundary = cuspatial.from_geopandas(host_dataframe[host_dataframe.name == \"United States of America\"].geometry.boundary)\n",
    "canada_boundary = cuspatial.from_geopandas(host_dataframe[host_dataframe.name == \"Canada\"].geometry.boundary)\n",
    "\n",
    "list_offsets, geometries, look_back_ids = pairwise_linestring_intersection(usa_boundary, canada_boundary)"
   ]
  },
  {
   "cell_type": "code",
   "execution_count": null,
   "id": "1125fd17-afe1-4b9c-b48d-8842dd3700b3",
   "metadata": {
    "tags": []
   },
   "outputs": [],
   "source": [
    "# The first integer series shows that the result contains 1 row (since we only have 1 pair of linestrings as input).\n",
    "# This row contains 144 geometires.\n",
    "list_offsets"
   ]
  },
  {
   "cell_type": "code",
   "execution_count": null,
   "id": "b281e3bb-42d4-4d60-9cb2-b7dcc20b4776",
   "metadata": {
    "tags": []
   },
   "outputs": [],
   "source": [
    "# The second element is a geoseries that contains the intersecting geometries, with 144 rows, including points and linestrings.\n",
    "geometries"
   ]
  },
  {
   "cell_type": "code",
   "execution_count": null,
   "id": "e19873b9-2614-4242-ad67-caa47f807d04",
   "metadata": {
    "tags": []
   },
   "outputs": [],
   "source": [
    "# The third element is a dataframe that contains IDs to the input segments and linestrings, 4 for each result row.\n",
    "# Each represents ids to lhs, rhs linestring and segment ids.\n",
    "look_back_ids"
   ]
  },
  {
   "attachments": {},
   "cell_type": "markdown",
   "id": "a17bd64a",
   "metadata": {},
   "source": [
    "## Spatial Joins\n",
    "\n",
    "cuSpatial provides a number of functions to facilitate high-performance spatial joins, \n",
    "including unindexed and quadtree-indexed point-in-polygon and quadtree-indexed point to nearest\n",
    "linestring.\n",
    "\n",
    "The API for spatial joins does not yet match GeoPandas, but with knowledge of cuSpatial data formats\n",
    "you can call  `cuspatial.point_in_polygon` for large numbers of points on 32 polygons or less, or\n",
    "call `cuspatial.quadtree_point_in_polygon` for large numbers of points and polygons.  \n",
    "\n",
    "### Unindexed Point-in-polygon Join\n",
    "\n",
    "### [cuspatial.point_in_polygon](https://docs.rapids.ai/api/cuspatial/nightly/api_docs/spatial.html#cuspatial.point_in_polygon)"
   ]
  },
  {
   "cell_type": "code",
   "execution_count": null,
   "id": "bf7b2256",
   "metadata": {
    "tags": []
   },
   "outputs": [],
   "source": [
    "host_dataframe = geopandas.read_file(geopandas.datasets.get_path(\"naturalearth_lowres\"))\n",
    "single_polygons = host_dataframe[host_dataframe['geometry'].type == \"Polygon\"]\n",
    "gpu_dataframe = cuspatial.from_geopandas(single_polygons)\n",
    "x_points = (cupy.random.random(10000000) - 0.5) * 360\n",
    "y_points = (cupy.random.random(10000000) - 0.5) * 180\n",
    "xy = cudf.DataFrame({\"x\": x_points, \"y\": y_points}).interleave_columns()\n",
    "points = cuspatial.GeoSeries.from_points_xy(xy)\n",
    "\n",
    "short_dataframe = gpu_dataframe.iloc[0:31]\n",
    "geometry = short_dataframe['geometry']\n",
    "\n",
    "points_in_polygon = cuspatial.point_in_polygon(\n",
    "    points, geometry\n",
    ")\n",
    "sum_of_points_in_polygons_0_to_31 = points_in_polygon.sum()\n",
    "sum_of_points_in_polygons_0_to_31.head()"
   ]
  },
  {
   "attachments": {},
   "cell_type": "markdown",
   "id": "fd9c4eef",
   "metadata": {},
   "source": [
    "cuSpatial includes another join algorithm, `quadtree_point_in_polygon` that uses an indexing  \n",
    "quadtree for faster calculations. `quadtree_point_in_polygon` also supports a number of  \n",
    "polygons limited only by memory constraints."
   ]
  },
  {
   "attachments": {},
   "cell_type": "markdown",
   "id": "387565b3-75ae-4789-a950-daffc2d4da01",
   "metadata": {},
   "source": [
    "### Quadtree Indexing\n",
    "\n",
    "The indexing module is used to create a spatial quadtree. Use  \n",
    "```\n",
    "cuspatial.quadtree_on_points(\n",
    "    points,\n",
    "    x_min,\n",
    "    x_max,\n",
    "    y_min,\n",
    "    y_max,\n",
    "    scale,\n",
    "    max_depth,\n",
    "    max_size\n",
    ")\n",
    "```\n",
    "to create the quadtree object that is used by the `quadtree_point_in_polygon`  \n",
    "function in the `join` module.\n",
    "\n",
    "The function uses a set of points and a user-defined bounding box to build an  \n",
    "indexing quad tree. Be sure to adjust the parameters appropriately, with larger  \n",
    "parameter values for larger datasets.\n",
    "\n",
    "`scale`: A scaling function that increases the size of the point space from an  \n",
    "origin defined by `{x_min, y_min}`. This can increase the likelihood of generating  \n",
    "well-separated quads.\n",
    "\n",
    "`max_depth`: In order for a quadtree to index points effectively, it must have a\n",
    "depth that is log-scaled with the size of the number of points. Each level of the  \n",
    "quad tree contains 4 quads. The number of available quads $q$ for indexing is then  \n",
    "equal to $q = 4^{d}$ where $d$ is the `max_depth` parameter. With an input size  \n",
    "of `10m` points and `max_depth = 7`, $\\frac{10^6}{4^7}$ points will be most  \n",
    "efficiently packed into the leaves of the quad tree.\n",
    "\n",
    "`max_size`: The maximum number of points allowed in an internal node before it is\n",
    "split into four leaf notes. As the  quadtree is generated, a leaf node containing\n",
    "usable index points will be created as points are added. If the number of points\n",
    "in this leaf exceeds `max_size`, the leaf will be subdivided, with four new\n",
    "leaves added and the original node removed from the set of leaves. This number is\n",
    "probably optimized in most datasets by making it a significant fraction of the\n",
    "optimal leaf size computation from above. Consider $10,000,000 / 4^7 / 4 = 153$.\n",
    "\n",
    "### [cuspatial.quadtree_on_points](https://docs.rapids.ai/api/cuspatial/nightly/api_docs/spatial.html#cuspatial.quadtree_on_points)"
   ]
  },
  {
   "cell_type": "code",
   "execution_count": null,
   "id": "e3a0a9a3-0bdd-4f05-bcb5-7db4b99a44a3",
   "metadata": {
    "tags": []
   },
   "outputs": [],
   "source": [
    "x_points = (cupy.random.random(10000000) - 0.5) * 360\n",
    "y_points = (cupy.random.random(10000000) - 0.5) * 180\n",
    "xy = cudf.DataFrame({\"x\": x_points, \"y\": y_points}).interleave_columns()\n",
    "points = cuspatial.GeoSeries.from_points_xy(xy)\n",
    "\n",
    "scale = 5\n",
    "max_depth = 7\n",
    "max_size = 125\n",
    "point_indices, quadtree = cuspatial.quadtree_on_points(points,\n",
    "                                                       x_points.min(),\n",
    "                                                       x_points.max(),\n",
    "                                                       y_points.min(),\n",
    "                                                       y_points.max(),\n",
    "                                                       scale,\n",
    "                                                       max_depth,\n",
    "                                                       max_size)\n",
    "print(point_indices.head())\n",
    "print(quadtree.head())"
   ]
  },
  {
   "attachments": {},
   "cell_type": "markdown",
   "id": "0ab7e64d-1199-498c-b020-b3e7393337a5",
   "metadata": {},
   "source": [
    "### Indexed Spatial Joins\n",
    "\n",
    "The quadtree spatial index (`point_indices` and `quadtree`) is used by `quadtree_point_in_polygon`\n",
    "and `quadtree_point_to_nearest_linestring` to accelerate larger spatial joins. \n",
    "`quadtree_point_in_polygon` depends on a number of intermediate products calculated here using the\n",
    "following functions.\n",
    "\n",
    "### [cuspatial.join_quadtree_and_bounding_boxes](https://docs.rapids.ai/api/cuspatial/nightly/api_docs/spatial.html#cuspatial.join_quadtree_and_bounding_boxes)\n",
    "### [cuspatial.quadtree_point_in_polygon](https://docs.rapids.ai/api/cuspatial/nightly/api_docs/spatial.html#cuspatial.quadtree_point_in_polygon)"
   ]
  },
  {
   "cell_type": "code",
   "execution_count": null,
   "id": "023bd25a-35be-435d-ab0b-ecbd7a47e147",
   "metadata": {
    "tags": []
   },
   "outputs": [],
   "source": [
    "polygons = gpu_dataframe['geometry']\n",
    "\n",
    "poly_bboxes = cuspatial.polygon_bounding_boxes(\n",
    "    polygons\n",
    ")\n",
    "intersections = cuspatial.join_quadtree_and_bounding_boxes(\n",
    "    quadtree,\n",
    "    poly_bboxes,\n",
    "    polygons.polygons.x.min(),\n",
    "    polygons.polygons.x.max(),\n",
    "    polygons.polygons.y.min(),\n",
    "    polygons.polygons.y.max(),\n",
    "    scale,\n",
    "    max_depth\n",
    ")\n",
    "polygons_and_points = cuspatial.quadtree_point_in_polygon(\n",
    "    intersections,\n",
    "    quadtree,\n",
    "    point_indices,\n",
    "    points,\n",
    "    polygons\n",
    ")\n",
    "print(polygons_and_points.head())"
   ]
  },
  {
   "attachments": {},
   "cell_type": "markdown",
   "id": "aa1552a1-fe4b-4d30-b76f-054a060593ae",
   "metadata": {},
   "source": [
    "You can see above that polygon 270 maps to the first 5 points. In order to bring this back to  \n",
    "a specific row of the original dataframe, the individual polygons must be mapped back to their  \n",
    "original MultiPolygon row. This is left an an exercise.\n",
    "\n",
    "### [cuspatial.quadtree_point_to_nearest_linestring](https://docs.rapids.ai/api/cuspatial/nightly/api_docs/spatial.html#cuspatial.quadtree_point_to_nearest_linestring)\n",
    "\n",
    "`cuspatial.quadtree_point_to_nearest_linestring` can be used to find the Polygon or Linestring  \n",
    "nearest to a set of points from another set of mixed geometries. "
   ]
  },
  {
   "cell_type": "code",
   "execution_count": null,
   "id": "784aff8e-c9ed-4a81-aa87-bf301b3b90af",
   "metadata": {
    "tags": []
   },
   "outputs": [],
   "source": [
    "host_countries = geopandas.read_file(geopandas.datasets.get_path(\"naturalearth_lowres\"))\n",
    "host_cities = geopandas.read_file(geopandas.datasets.get_path(\"naturalearth_cities\"))\n",
    "gpu_countries = cuspatial.from_geopandas(host_countries[host_countries['geometry'].type == \"Polygon\"])\n",
    "gpu_cities = cuspatial.from_geopandas(host_cities[host_cities['geometry'].type == 'Point'])"
   ]
  },
  {
   "cell_type": "code",
   "execution_count": null,
   "id": "fea24c78-cf5c-45c6-b860-338238e61323",
   "metadata": {
    "tags": []
   },
   "outputs": [],
   "source": [
    "polygons = gpu_countries['geometry'].polygons\n",
    "\n",
    "boundaries = cuspatial.GeoSeries.from_linestrings_xy(\n",
    "    cudf.DataFrame({\"x\": polygons.x, \"y\": polygons.y}).interleave_columns(),\n",
    "    polygons.ring_offset,\n",
    "    cupy.arange(len(polygons.ring_offset))\n",
    ")\n",
    "\n",
    "point_indices, quadtree = cuspatial.quadtree_on_points(gpu_cities['geometry'],\n",
    "                                                       polygons.x.min(),\n",
    "                                                       polygons.x.max(),\n",
    "                                                       polygons.y.min(),\n",
    "                                                       polygons.y.max(),\n",
    "                                                       scale,\n",
    "                                                       max_depth,\n",
    "                                                       max_size)\n",
    "poly_bboxes = cuspatial.linestring_bounding_boxes(\n",
    "    boundaries,\n",
    "    2.0\n",
    ")\n",
    "intersections = cuspatial.join_quadtree_and_bounding_boxes(\n",
    "    quadtree,\n",
    "    poly_bboxes,\n",
    "    polygons.x.min(),\n",
    "    polygons.x.max(),\n",
    "    polygons.y.min(),\n",
    "    polygons.y.max(),\n",
    "    scale,\n",
    "    max_depth\n",
    ")\n",
    "result = cuspatial.quadtree_point_to_nearest_linestring(\n",
    "    intersections,\n",
    "    quadtree,\n",
    "    point_indices,\n",
    "    gpu_cities['geometry'],\n",
    "    boundaries\n",
    ")\n",
    "print(result.head())"
   ]
  },
  {
   "attachments": {},
   "cell_type": "markdown",
   "id": "3e4e07f6",
   "metadata": {},
   "source": [
    "_Images used with permission from Wikipedia Creative Commons_"
   ]
  }
 ],
 "metadata": {
  "kernelspec": {
   "display_name": "Python 3 (ipykernel)",
   "language": "python",
   "name": "python3"
  },
  "language_info": {
   "codemirror_mode": {
    "name": "ipython",
    "version": 3
   },
   "file_extension": ".py",
   "mimetype": "text/x-python",
   "name": "python",
   "nbconvert_exporter": "python",
   "pygments_lexer": "ipython3",
   "version": "3.11.9"
  },
  "vscode": {
   "interpreter": {
    "hash": "ef2a625a21f49284d4111fd61c77079c8ec37c2ac9f170a08eb051e93ed3e888"
   }
  }
 },
 "nbformat": 4,
 "nbformat_minor": 5
}
